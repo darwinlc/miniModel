{
 "cells": [
  {
   "cell_type": "code",
   "execution_count": null,
   "metadata": {},
   "outputs": [],
   "source": [
    "import pandas as pd\n",
    "import numpy as np\n",
    "import matplotlib.pyplot as plt\n",
    "import tqdm"
   ]
  },
  {
   "cell_type": "code",
   "execution_count": null,
   "metadata": {},
   "outputs": [],
   "source": [
    "_col_ = ['eventTime', 'tradeId', 'price', 'quantity', 'buyerId', 'sellerId','tradeTime', 'isBuyer']"
   ]
  },
  {
   "cell_type": "code",
   "execution_count": null,
   "metadata": {},
   "outputs": [],
   "source": [
    "txn_df = pd.read_csv(\"./data/APEUSDT-20220920172734.csv\", names=_col_)"
   ]
  },
  {
   "cell_type": "code",
   "execution_count": null,
   "metadata": {},
   "outputs": [],
   "source": [
    "txn_df.head(2)"
   ]
  },
  {
   "cell_type": "code",
   "execution_count": null,
   "metadata": {},
   "outputs": [],
   "source": [
    "# seller orders are matched due to buyer's action\n",
    "sell_order_df = txn_df[txn_df['isBuyer']].groupby(['sellerId', 'eventTime']).agg({'price': min, 'quantity': sum})\n",
    "\n",
    "# buyer orders are matched due to seller's action\n",
    "buy_order_df = txn_df[~txn_df['isBuyer']].groupby(['buyerId', 'eventTime']).agg({'price': max, 'quantity': sum})"
   ]
  },
  {
   "cell_type": "code",
   "execution_count": null,
   "metadata": {},
   "outputs": [],
   "source": [
    "sell_order_df.sort_index(level=1, inplace=True)\n",
    "buy_order_df.sort_index(level=1, inplace=True)\n",
    "\n",
    "plt.figure(figsize=(20, 7))\n",
    "plt.plot(sell_order_df.index.get_level_values(1), sell_order_df['quantity'], alpha = 0.5, color='r')\n",
    "plt.plot(buy_order_df.index.get_level_values(1), buy_order_df['quantity'], alpha = 0.5, color='g')\n",
    "plt.show()"
   ]
  },
  {
   "cell_type": "code",
   "execution_count": null,
   "metadata": {},
   "outputs": [],
   "source": [
    "plt.figure(figsize=(20, 5))\n",
    "plt.scatter(sell_order_df.index.get_level_values(1), sell_order_df['price'], alpha = 0.005, marker='.', color='r')\n",
    "plt.show()\n",
    "plt.figure(figsize=(20, 5))\n",
    "plt.scatter(buy_order_df.index.get_level_values(1), buy_order_df['price'], alpha=0.005, marker='.', color = 'g')\n",
    "plt.show()"
   ]
  },
  {
   "cell_type": "code",
   "execution_count": null,
   "metadata": {},
   "outputs": [],
   "source": [
    "test_time = 1663893105429\n",
    "time_interval = 100000\n",
    "price_unit = 0.001\n",
    "price_str_fmt = \"{:.3f}\"\n",
    "recent_price = txn_df[txn_df['eventTime'] > test_time].iloc[0]['price']\n",
    "print (f\"most recent trade at price {recent_price}\")\n",
    "price_range_min = recent_price - 5 * price_unit\n",
    "price_range_max = recent_price + 5 * price_unit \n",
    "start_time = test_time - time_interval\n",
    "end_time = test_time + time_interval\n",
    "\n",
    "# subset of df\n",
    "sub_sell_df = sell_order_df[(sell_order_df.index.get_level_values(1) >= start_time) & \\\n",
    "    (sell_order_df.index.get_level_values(1) < end_time)].copy()\n",
    "sub_buy_df = buy_order_df[(buy_order_df.index.get_level_values(1) >= start_time) & \\\n",
    "    (buy_order_df.index.get_level_values(1) < end_time)].copy()\n",
    "\n",
    "# time weighted quantity\n",
    "sub_sell_df['_time_weight'] = 1.0 - (sub_sell_df.index.get_level_values(1) - test_time)/time_interval\n",
    "sub_sell_df['_time_weighted_q'] = sub_sell_df['quantity'] * sub_sell_df['_time_weight']\n",
    "sub_buy_df['_time_weight'] = 1.0 - (sub_buy_df.index.get_level_values(1) - test_time)/time_interval\n",
    "sub_buy_df['_time_weighted_q'] = sub_buy_df['quantity'] * sub_buy_df['_time_weight']\n",
    "\n",
    "# price range\n",
    "sub_sell_df = sub_sell_df.query(f'(`price` <= {price_range_max}) & (`price` >= {price_range_min})')\n",
    "sub_buy_df = sub_buy_df.query(f'(`price` <= {price_range_max}) & (`price` >= {price_range_min})')\n",
    "\n",
    "# cleaned df (\"{:.3f}\".format(0.09))\n",
    "clean_df = pd.DataFrame({'_price_str_': [price_str_fmt.format(i) for i in np.arange(price_range_min, price_range_max + price_unit, price_unit)]})\n",
    "sub_sell_df['_price_str_'] = sub_sell_df['price'].apply(lambda x: price_str_fmt.format(x))\n",
    "sub_buy_df['_price_str_'] = sub_buy_df['price'].apply(lambda x: price_str_fmt.format(x))\n",
    "clean_df = clean_df.merge(sub_sell_df.groupby('_price_str_')['_time_weighted_q'].sum().rename('_sell_q_'), \\\n",
    "    left_on = '_price_str_', right_index = True, how = 'left')\n",
    "clean_df = clean_df.merge(sub_buy_df.groupby('_price_str_')['_time_weighted_q'].sum().rename('_buy_q_'), \\\n",
    "    left_on = '_price_str_', right_index = True, how = 'left')\n",
    "clean_df.fillna(0.0, inplace=True)\n",
    "\n",
    "# plot\n",
    "clean_df.plot(x = '_price_str_', kind = 'bar', figsize = (20, 5), alpha = 0.5)\n",
    "# plt.figure(figsize=(20, 5))\n",
    "# sub_sell_df.groupby('price')['_time_weighted_q'].sum().plot(kind = 'bar', color = 'r', alpha = 0.4)\n",
    "# sub_buy_df.groupby('price')['_time_weighted_q'].sum().plot(kind = 'bar', color = 'g', alpha = 0.4)"
   ]
  },
  {
   "cell_type": "code",
   "execution_count": null,
   "metadata": {},
   "outputs": [],
   "source": [
    "def getFeature(start_time, end_time, df, anchor_price, price_tick_cnt = 5, price_unit = 0.001, price_str_fmt = \"{:.3f}\", flag_time_weighted = True):\n",
    "    '''\n",
    "    Calculate feature/label\n",
    "    feature: flag_time_weighted = False\n",
    "    label: flag_time_weighted = True\n",
    "    df: can be either sell_df or buy_df\n",
    "    '''\n",
    "    # time_interval\n",
    "    time_interval = end_time - start_time + 1\n",
    "    # price range\n",
    "    price_range_min = anchor_price - price_tick_cnt * price_unit\n",
    "    price_range_max = anchor_price + price_tick_cnt * price_unit \n",
    "    # sub df\n",
    "    sub_df = df[(df.index.get_level_values(1) > start_time) & \\\n",
    "        (df.index.get_level_values(1) < end_time)].copy()\n",
    "    # time weighted\n",
    "    if flag_time_weighted:\n",
    "        # time weighted quantity\n",
    "        sub_df['_time_weight'] = 1.0 - (sub_df.index.get_level_values(1) - start_time)/time_interval\n",
    "        sub_df['_time_weighted_q'] = sub_df['quantity'] * sub_df['_time_weight']\n",
    "    else:\n",
    "        sub_df['_time_weighted_q'] = sub_df['quantity']\n",
    "    sub_df = sub_df.query(f'(`price` <= {price_range_max}) & (`price` >= {price_range_min})').copy()\n",
    "    sub_df['_price_str_'] = sub_df['price'].apply(lambda x: price_str_fmt.format(x))\n",
    "    # clean df\n",
    "    clean_df = pd.DataFrame({'_price_str_': [price_str_fmt.format(i) for i in np.arange(price_range_min, price_range_max+price_unit - 1e-10, price_unit)]})\n",
    "    clean_df = clean_df.merge(sub_df.groupby('_price_str_')['_time_weighted_q'].sum().rename('_tw_q_'), \\\n",
    "        left_on = '_price_str_', right_index = True, how = 'left').fillna(0.0)\n",
    "    numpy_v = clean_df['_tw_q_'].values\n",
    "    return numpy_v\n",
    "\n",
    "def getDataSet(txn_df, time_X, time_y, time_moving_step = 10, flag_norm = True):\n",
    "    '''\n",
    "    Prepare training dataset with moving window\n",
    "    |----- time_X -----|--- time_y ---|\n",
    "    |    buy/sell df (anchor) buy/sell|\n",
    "    - step --> |----- time_X -----|--- time_y ---|\n",
    "    '''\n",
    "    # valid time range for dataset\n",
    "    max_data_time = txn_df['eventTime'].max() - time_y\n",
    "    min_data_time = txn_df['eventTime'].min() + time_X\n",
    "    # seller orders are matched due to buyer's action\n",
    "    sell_order_df = txn_df[txn_df['isBuyer']].groupby(['sellerId', 'eventTime']).agg({'price': min, 'quantity': sum})\n",
    "    # buyer orders are matched due to seller's action\n",
    "    buy_order_df = txn_df[~txn_df['isBuyer']].groupby(['buyerId', 'eventTime']).agg({'price': max, 'quantity': sum})\n",
    "    # main loop\n",
    "    data_X = []\n",
    "    data_y_sell = []\n",
    "    data_y_buy = []\n",
    "    for datapoint_t in tqdm.tqdm(range(min_data_time, max_data_time, time_moving_step)):\n",
    "        # anchor price\n",
    "        anchor_price = txn_df[txn_df['eventTime'] < datapoint_t].iloc[-1]['price']\n",
    "        # sell_X\n",
    "        sell_X = getFeature(datapoint_t - time_X, datapoint_t, sell_order_df, anchor_price, flag_time_weighted = False)\n",
    "        # buy_X\n",
    "        buy_X = getFeature(datapoint_t - time_X, datapoint_t, buy_order_df, anchor_price, flag_time_weighted = False)\n",
    "        # sell_y\n",
    "        sell_y = getFeature(datapoint_t, datapoint_t + time_y, sell_order_df, anchor_price, flag_time_weighted = True)\n",
    "        # buy_y\n",
    "        buy_y = getFeature(datapoint_t, datapoint_t + time_y, buy_order_df, anchor_price, flag_time_weighted = True)\n",
    "        # normalization and save\n",
    "        X = np.concatenate([sell_X, buy_X])\n",
    "        min_X = np.min(X)\n",
    "        max_X = np.max(X)\n",
    "        if flag_norm:\n",
    "            data_X.append((X-min_X)/(max_X - min_X))\n",
    "            data_y_sell.append((sell_y-min_X)/(max_X - min_X))\n",
    "            data_y_buy.append((buy_y-min_X)/(max_X - min_X))\n",
    "        else:\n",
    "            data_X.append(X)\n",
    "            data_y_sell.append(sell_y)\n",
    "            data_y_buy.append(buy_y)\n",
    "    return data_X, data_y_sell, data_y_buy"
   ]
  },
  {
   "cell_type": "code",
   "execution_count": null,
   "metadata": {},
   "outputs": [],
   "source": [
    "# getFeature(start_time, end_time, sell_order_df, 6.053, flag_time_weighted=False)\n",
    "# getDataSet(txn_df, 200000, 100000, flag_norm=False)"
   ]
  },
  {
   "cell_type": "code",
   "execution_count": null,
   "metadata": {},
   "outputs": [],
   "source": [
    "X, y1, y2 = getDataSet(txn_df, 200000, 100000, time_moving_step=10000, flag_norm=True)"
   ]
  },
  {
   "cell_type": "code",
   "execution_count": null,
   "metadata": {},
   "outputs": [],
   "source": [
    "with open(\"./feature/APE_data.npy\", \"wb\") as f:\n",
    "    np.save(f, np.array(X))\n",
    "    np.save(f, np.array(y1))\n",
    "    np.save(f, np.array(y2))"
   ]
  },
  {
   "cell_type": "code",
   "execution_count": null,
   "metadata": {},
   "outputs": [],
   "source": []
  }
 ],
 "metadata": {
  "interpreter": {
   "hash": "31f2aee4e71d21fbe5cf8b01ff0e069b9275f58929596ceb00d14d90e3e16cd6"
  },
  "kernelspec": {
   "display_name": "Python 3.8.10 64-bit",
   "language": "python",
   "name": "python3"
  },
  "language_info": {
   "codemirror_mode": {
    "name": "ipython",
    "version": 3
   },
   "file_extension": ".py",
   "mimetype": "text/x-python",
   "name": "python",
   "nbconvert_exporter": "python",
   "pygments_lexer": "ipython3",
   "version": "3.8.10"
  },
  "orig_nbformat": 4
 },
 "nbformat": 4,
 "nbformat_minor": 2
}
