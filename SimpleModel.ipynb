{
 "cells": [
  {
   "cell_type": "code",
   "execution_count": null,
   "metadata": {},
   "outputs": [],
   "source": [
    "import numpy as np\n",
    "import os\n",
    "import torch\n",
    "from torch import nn\n",
    "from torch.utils.data import DataLoader, TensorDataset, random_split"
   ]
  },
  {
   "cell_type": "code",
   "execution_count": null,
   "metadata": {},
   "outputs": [],
   "source": [
    "with open(\"./feature/APE_data.npy\", \"rb\") as f:\n",
    "    X = np.load(f)\n",
    "    sell_y = np.load(f)\n",
    "    buy_y = np.load(f)"
   ]
  },
  {
   "cell_type": "code",
   "execution_count": null,
   "metadata": {},
   "outputs": [],
   "source": [
    "X.shape, sell_y.shape, buy_y.shape"
   ]
  },
  {
   "cell_type": "code",
   "execution_count": null,
   "metadata": {},
   "outputs": [],
   "source": [
    "# create your datset and dataloader\n",
    "sell_dataset = TensorDataset(torch.Tensor(X), torch.Tensor(sell_y)) \n",
    "sell_train_dataset, sell_val_dataset = random_split(sell_dataset, [18474, 23093 - 18474])\n",
    "sell_dataloader = DataLoader(sell_train_dataset, batch_size=128, shuffle=True) \n",
    "sell_val_loader = DataLoader(sell_val_dataset) \n",
    "\n",
    "buy_dataset = TensorDataset(torch.Tensor(X), torch.Tensor(buy_y)) \n",
    "buy_train_dataset, buy_val_dataset = random_split(buy_dataset, [18474, 23093 - 18474])\n",
    "buy_dataloader = DataLoader(buy_train_dataset, batch_size=128, shuffle=True)\n",
    "buy_val_loader = DataLoader(buy_val_dataset) "
   ]
  },
  {
   "cell_type": "code",
   "execution_count": null,
   "metadata": {},
   "outputs": [],
   "source": [
    "class SimpleNN(nn.Module):\n",
    "    def __init__(self):\n",
    "        super(SimpleNN, self).__init__()\n",
    "        self.network = nn.Sequential(\n",
    "            nn.Linear(22, 16),\n",
    "            nn.Linear(16, 11),\n",
    "            nn.ReLU(),\n",
    "            nn.Linear(11, 11),\n",
    "        )\n",
    "\n",
    "    def forward(self, x):\n",
    "        v = self.network(x)\n",
    "        return v"
   ]
  },
  {
   "cell_type": "code",
   "execution_count": null,
   "metadata": {},
   "outputs": [],
   "source": [
    "model_name = \"APE_BUY\"\n",
    "buy_model = SimpleNN()\n",
    "loss_fn = nn.MSELoss(reduction='mean')\n",
    "optimizer = torch.optim.Adam(buy_model.parameters(), lr=1e-5)\n",
    "\n",
    "best_loss = 10000\n",
    "for epoch_i in range(1000):\n",
    "    train_loss_array = []\n",
    "    val_loss_array = []\n",
    "    # train\n",
    "    for data_X, data_y in buy_dataloader:\n",
    "        y_hat = buy_model(data_X)\n",
    "        loss = loss_fn(y_hat, data_y)\n",
    "        train_loss_array.append(loss.item())\n",
    "        loss.backward()    \n",
    "        optimizer.step()\n",
    "        optimizer.zero_grad()\n",
    "\n",
    "    # eval\n",
    "    with torch.no_grad():\n",
    "        for x_val, y_val in buy_val_loader:\n",
    "            # x_val = x_val.to(device)\n",
    "            # y_val = y_val.to(device)\n",
    "            buy_model.eval()\n",
    "            yhat = buy_model(x_val)\n",
    "            val_loss = loss_fn(y_val, yhat)\n",
    "            val_loss_array.append(val_loss.item())\n",
    "    \n",
    "    if epoch_i%10 == 0:\n",
    "        print (f\"Epoch {epoch_i}: Training Loss: {np.mean(train_loss_array)}; Test Loss: {np.mean(val_loss_array)}\")\n",
    "    if epoch_i%100 == 99:\n",
    "        torch.save(buy_model, f\"./model/checkpoint/model_ckpt_{epoch_i}.save\")\n",
    "        if np.mean(val_loss_array) < best_loss:\n",
    "            torch.save(buy_model, f\"./model/{model_name}_model.save\")\n",
    "            best_loss = np.mean(val_loss_array)"
   ]
  },
  {
   "cell_type": "code",
   "execution_count": null,
   "metadata": {},
   "outputs": [],
   "source": [
    "model_name = \"APE_SELL\"\n",
    "sell_model = SimpleNN()\n",
    "loss_fn = nn.MSELoss(reduction='mean')\n",
    "optimizer = torch.optim.Adam(sell_model.parameters(), lr=1e-5)\n",
    "\n",
    "best_loss = 10000\n",
    "for epoch_i in range(1000):\n",
    "    train_loss_array = []\n",
    "    val_loss_array = []\n",
    "    # train\n",
    "    for data_X, data_y in sell_dataloader:\n",
    "        y_hat = sell_model(data_X)\n",
    "        loss = loss_fn(y_hat, data_y)\n",
    "        train_loss_array.append(loss.item())\n",
    "        loss.backward()    \n",
    "        optimizer.step()\n",
    "        optimizer.zero_grad()\n",
    "\n",
    "    # eval\n",
    "    with torch.no_grad():\n",
    "        for x_val, y_val in sell_val_loader:\n",
    "            # x_val = x_val.to(device)\n",
    "            # y_val = y_val.to(device)\n",
    "            sell_model.eval()\n",
    "            yhat = sell_model(x_val)\n",
    "            val_loss = loss_fn(y_val, yhat)\n",
    "            val_loss_array.append(val_loss.item())\n",
    "    \n",
    "    if epoch_i%10 == 0:\n",
    "        print (f\"Epoch {epoch_i}: Training Loss: {np.mean(train_loss_array)}; Test Loss: {np.mean(val_loss_array)}\")\n",
    "    if epoch_i%100 == 99:\n",
    "        torch.save(buy_model, f\"./model/checkpoint/model_ckpt_{epoch_i}.save\")\n",
    "        if np.mean(val_loss_array) < best_loss:\n",
    "            torch.save(sell_model, f\"./model/{model_name}_model.save\")\n",
    "            best_loss = np.mean(val_loss_array)"
   ]
  },
  {
   "cell_type": "markdown",
   "metadata": {},
   "source": [
    "#### Test"
   ]
  },
  {
   "cell_type": "code",
   "execution_count": null,
   "metadata": {},
   "outputs": [],
   "source": [
    "test_data_X, test_data_y = buy_dataset.__getitem__(1000)\n",
    "buy_model(test_data_X), test_data_y"
   ]
  },
  {
   "cell_type": "code",
   "execution_count": null,
   "metadata": {},
   "outputs": [],
   "source": []
  },
  {
   "cell_type": "code",
   "execution_count": null,
   "metadata": {},
   "outputs": [],
   "source": []
  }
 ],
 "metadata": {
  "interpreter": {
   "hash": "31f2aee4e71d21fbe5cf8b01ff0e069b9275f58929596ceb00d14d90e3e16cd6"
  },
  "kernelspec": {
   "display_name": "Python 3.8.10 64-bit",
   "language": "python",
   "name": "python3"
  },
  "language_info": {
   "codemirror_mode": {
    "name": "ipython",
    "version": 3
   },
   "file_extension": ".py",
   "mimetype": "text/x-python",
   "name": "python",
   "nbconvert_exporter": "python",
   "pygments_lexer": "ipython3",
   "version": "3.7.3"
  },
  "orig_nbformat": 4
 },
 "nbformat": 4,
 "nbformat_minor": 2
}
